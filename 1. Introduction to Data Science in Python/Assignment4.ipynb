{
 "cells": [
  {
   "cell_type": "code",
   "execution_count": 1,
   "metadata": {},
   "outputs": [
    {
     "name": "stdout",
     "output_type": "stream",
     "text": [
      " Hello, World!\n",
      " Hello, Hamdy! \n"
     ]
    }
   ],
   "source": [
    "print(' Hello, World!\\n Hello, Hamdy! ')"
   ]
  },
  {
   "cell_type": "code",
   "execution_count": 2,
   "metadata": {
    "collapsed": true
   },
   "outputs": [],
   "source": [
    "import pandas as pd\n",
    "import numpy as np\n",
    "import matplotlib.pyplot as plt\n",
    "from scipy.stats import ttest_ind\n",
    "from collections import defaultdict\n",
    "#pd.set_option('display.max_rows', 1000)"
   ]
  },
  {
   "cell_type": "markdown",
   "metadata": {},
   "source": [
    "# Assignment 4 - Hypothesis Testing\n",
    "This assignment requires more individual learning than previous assignments - you are encouraged to check out the [pandas documentation](http://pandas.pydata.org/pandas-docs/stable/) to find functions or methods you might not have used yet, or ask questions on [Stack Overflow](http://stackoverflow.com/) and tag them as pandas and python related. And of course, the discussion forums are open for interaction with your peers and the course staff.\n",
    "\n",
    "Definitions:\n",
    "* A _quarter_ is a specific three month period, Q1 is January through March, Q2 is April through June, Q3 is July through September, Q4 is October through December.\n",
    "* A _recession_ is defined as starting with two consecutive quarters of GDP decline, and ending with two consecutive quarters of GDP growth.\n",
    "* A _recession bottom_ is the quarter within a recession which had the lowest GDP.\n",
    "* A _university town_ is a city which has a high percentage of university students compared to the total population of the city.\n",
    "\n",
    "**Hypothesis**: University towns have their mean housing prices less effected by recessions. Run a t-test to compare the ratio of the mean price of houses in university towns the quarter before the recession starts compared to the recession bottom. (`price_ratio=quarter_before_recession/recession_bottom`)\n",
    "\n",
    "The following data files are available for this assignment:\n",
    "* From the [Zillow research data site](http://www.zillow.com/research/data/) there is housing data for the United States. In particular the datafile for [all homes at a city level](http://files.zillowstatic.com/research/public/City/City_Zhvi_AllHomes.csv), ```City_Zhvi_AllHomes.csv```, has median home sale prices at a fine grained level.\n",
    "* From the Wikipedia page on college towns is a list of [university towns in the United States](https://en.wikipedia.org/wiki/List_of_college_towns#College_towns_in_the_United_States) which has been copy and pasted into the file ```university_towns.txt```.\n",
    "* From Bureau of Economic Analysis, US Department of Commerce, the [GDP over time](http://www.bea.gov/national/index.htm#gdp) of the United States in current dollars (use the chained value in 2009 dollars), in quarterly intervals, in the file ```gdplev.xls```. For this assignment, only look at GDP data from the first quarter of 2000 onward.\n",
    "\n",
    "Each function in this assignment below is worth 10%, with the exception of ```run_ttest()```, which is worth 50%."
   ]
  },
  {
   "cell_type": "code",
   "execution_count": 3,
   "metadata": {
    "collapsed": true
   },
   "outputs": [],
   "source": [
    "# Use this dictionary to map state names to two letter acronyms\n",
    "states = {'OH': 'Ohio', 'KY': 'Kentucky', 'AS': 'American Samoa', 'NV': 'Nevada', 'WY': 'Wyoming', 'NA': 'National', 'AL': 'Alabama', 'MD': 'Maryland', 'AK': 'Alaska', 'UT': 'Utah', 'OR': 'Oregon', 'MT': 'Montana', 'IL': 'Illinois', 'TN': 'Tennessee', 'DC': 'District of Columbia', 'VT': 'Vermont', 'ID': 'Idaho', 'AR': 'Arkansas', 'ME': 'Maine', 'WA': 'Washington', 'HI': 'Hawaii', 'WI': 'Wisconsin', 'MI': 'Michigan', 'IN': 'Indiana', 'NJ': 'New Jersey', 'AZ': 'Arizona', 'GU': 'Guam', 'MS': 'Mississippi', 'PR': 'Puerto Rico', 'NC': 'North Carolina', 'TX': 'Texas', 'SD': 'South Dakota', 'MP': 'Northern Mariana Islands', 'IA': 'Iowa', 'MO': 'Missouri', 'CT': 'Connecticut', 'WV': 'West Virginia', 'SC': 'South Carolina', 'LA': 'Louisiana', 'KS': 'Kansas', 'NY': 'New York', 'NE': 'Nebraska', 'OK': 'Oklahoma', 'FL': 'Florida', 'CA': 'California', 'CO': 'Colorado', 'PA': 'Pennsylvania', 'DE': 'Delaware', 'NM': 'New Mexico', 'RI': 'Rhode Island', 'MN': 'Minnesota', 'VI': 'Virgin Islands', 'NH': 'New Hampshire', 'MA': 'Massachusetts', 'GA': 'Georgia', 'ND': 'North Dakota', 'VA': 'Virginia'}"
   ]
  },
  {
   "cell_type": "code",
   "execution_count": 4,
   "metadata": {
    "collapsed": true
   },
   "outputs": [],
   "source": [
    "def get_list_of_university_towns():\n",
    "    '''Returns a DataFrame of towns and the states they are in from the \n",
    "    university_towns.txt list. The format of the DataFrame should be:\n",
    "    DataFrame( [ [\"Michigan\", \"Ann Arbor\"], [\"Michigan\", \"Yipsilanti\"] ], \n",
    "    columns=[\"State\", \"RegionName\"]  )\n",
    "    \n",
    "    The following cleaning needs to be done:\n",
    "\n",
    "    1. For \"State\", removing characters from \"[\" to the end.\n",
    "    2. For \"RegionName\", when applicable, removing every character from \" (\" to the end.\n",
    "    3. Depending on how you read the data, you may need to remove newline character '\\n'. '''\n",
    "    \n",
    "    # read data and remove\n",
    "    data = pd.read_table('university_towns.txt', header=None, names=[\"city-state\"])\n",
    "\n",
    "    # construct DataFrame with columns [\"State\", \"RegionName\"]\n",
    "    d = defaultdict(list)\n",
    "    state = None\n",
    "    for line in data[\"city-state\"]:\n",
    "        if '[ed' in line:\n",
    "            state = line\n",
    "        else:\n",
    "            d['State'].append(state)\n",
    "            d['RegionName'].append(line)\n",
    "\n",
    "    df = pd.DataFrame(d, columns=[\"State\", \"RegionName\"])\n",
    "    df[\"State\"] = df[\"State\"].str.replace(\"\\[.*\\]\",\"\")\n",
    "    df[\"RegionName\"] = df[\"RegionName\"].str.replace(\"\\(.*\",\"\").str.strip()\n",
    "    return df"
   ]
  },
  {
   "cell_type": "code",
   "execution_count": 5,
   "metadata": {
    "collapsed": true
   },
   "outputs": [],
   "source": [
    "def prepare_recess():\n",
    "    \"\"\"\n",
    "    Helper function for Q2, Q3\n",
    "    \"\"\"\n",
    "    data = pd.read_excel('gdplev.xls', header=None, skiprows=8, usecols=[4,6], names=[\"quarter\", \"GDP\"])\n",
    "    data = data[data['quarter'] >= \"2000q1\"]\n",
    "    data.reset_index(drop=True, inplace=True)\n",
    "    values_comparison = (data['GDP'].iloc[data.index].values[:-1]) > (data['GDP'].iloc[(data.index+1)[:-1]].values)\n",
    "    indices = np.argwhere(values_comparison>0)\n",
    "    indices_diff = indices[1:] - indices[:-1]\n",
    "    return indices_diff, indices, data"
   ]
  },
  {
   "cell_type": "code",
   "execution_count": 6,
   "metadata": {
    "collapsed": true
   },
   "outputs": [],
   "source": [
    "def get_recession_start():\n",
    "    '''Returns the year and quarter of the recession start time as a \n",
    "    string value in a format such as 2005q3'''\n",
    "\n",
    "    indices_diff, indices, data = prepare_recess()\n",
    "    x = np.where(indices_diff==1)[0][0]\n",
    "    recess_index = indices[x][0]\n",
    "    recess_start = data['quarter'].iloc[recess_index+1]\n",
    "    return recess_start"
   ]
  },
  {
   "cell_type": "code",
   "execution_count": 7,
   "metadata": {
    "collapsed": true
   },
   "outputs": [],
   "source": [
    "def get_recession_end():\n",
    "    '''Returns the year and quarter of the recession end time as a \n",
    "    string value in a format such as 2005q3'''\n",
    "    \n",
    "    indices_diff, indices, data = prepare_recess()\n",
    "    x = np.where(indices_diff==1)[0][-1]\n",
    "    recess_index = indices[x+1][0] + 2 ## added 2 to account for the two falses of gdp increase\n",
    "    recess_end = data['quarter'].iloc[recess_index+1]\n",
    "    return recess_end "
   ]
  },
  {
   "cell_type": "code",
   "execution_count": 8,
   "metadata": {
    "collapsed": true
   },
   "outputs": [],
   "source": [
    "def get_recession_bottom():\n",
    "    '''Returns the year and quarter of the recession bottom time as a \n",
    "    string value in a format such as 2005q3'''\n",
    "    \n",
    "    data = pd.read_excel('gdplev.xls', header=None, skiprows=8, usecols=[4,6], names=[\"quarter\", \"GDP\"])\n",
    "    data = data[data['quarter'] >= \"2000q1\"]\n",
    "    data.set_index('quarter', inplace=True)\n",
    "    recess_start = get_recession_start()\n",
    "    recess_end = get_recession_end()\n",
    "    recess_bottom = data.loc[recess_start:recess_end].idxmin()[0]\n",
    "    return recess_bottom"
   ]
  },
  {
   "cell_type": "code",
   "execution_count": 9,
   "metadata": {
    "collapsed": true
   },
   "outputs": [],
   "source": [
    "def convert_housing_data_to_quarters():\n",
    "    '''Converts the housing data to quarters and returns it as mean \n",
    "    values in a dataframe. This dataframe should be a dataframe with\n",
    "    columns for 2000q1 through 2016q3, and should have a multi-index\n",
    "    in the shape of [\"State\",\"RegionName\"].\n",
    "    \n",
    "    Note: Quarters are defined in the assignment description, they are\n",
    "    not arbitrary three month periods.\n",
    "    \n",
    "    The resulting dataframe should have 67 columns, and 10,730 rows.\n",
    "    '''\n",
    "    # read data \n",
    "    data = pd.read_csv('City_Zhvi_AllHomes.csv', usecols= [1,2])\n",
    "    df = pd.read_csv('City_Zhvi_AllHomes.csv', usecols= list(range(51,251)))\n",
    "    df.columns = pd.to_datetime(df.columns)\n",
    "    data[\"State\"].replace(states, inplace=True) \n",
    "\n",
    "    # create quarters from columns \n",
    "    ##TODO: use DataFrame.resample()\n",
    "    for col in df.columns[::3]:\n",
    "        start, end = col , col+ pd.Timedelta('90D')\n",
    "        quarter_mean_GDP = df.loc[:,start :end].mean(axis=1)\n",
    "        year = str(col.year)\n",
    "        if col.month == 1:\n",
    "            data[year+'q1'] = quarter_mean_GDP\n",
    "        if col.month == 4:\n",
    "            data[year+'q2'] = quarter_mean_GDP\n",
    "        if col.month == 7:\n",
    "            data[year+'q3'] = quarter_mean_GDP\n",
    "        if col.month == 10:\n",
    "            data[year+'q4'] = quarter_mean_GDP\n",
    "            \n",
    "    data.set_index(['State', 'RegionName'], inplace=True)\n",
    "    return data"
   ]
  },
  {
   "cell_type": "code",
   "execution_count": 54,
   "metadata": {
    "collapsed": true
   },
   "outputs": [],
   "source": [
    "def run_ttest():\n",
    "    '''First creates new data showing the decline or growth of housing prices\n",
    "    between the recession start and the recession bottom. Then runs a ttest\n",
    "    comparing the university town values to the non-university towns values, \n",
    "    return whether the alternative hypothesis (that the two groups are the same)\n",
    "    is true or not as well as the p-value of the confidence. \n",
    "    \n",
    "    Return the tuple (different, p, better) where different=True if the t-test is\n",
    "    True at a p<0.01 (we reject the null hypothesis), or different=False if \n",
    "    otherwise (we cannot reject the null hypothesis). The variable p should\n",
    "    be equal to the exact p value returned from scipy.stats.ttest_ind(). The\n",
    "    value for better should be either \"university town\" or \"non-university town\"\n",
    "    depending on which has a lower mean price ratio (which is equivilent to a\n",
    "    reduced market loss).'''\n",
    "    \n",
    "    # create prices ratio data for recess period\n",
    "    recess_start, recess_bottom, recess_end = get_recession_start(), get_recession_bottom(), get_recession_end()\n",
    "    df_university, housing_data = get_list_of_university_towns(), convert_housing_data_to_quarters()\n",
    "    housing_data = housing_data.loc[:,recess_start:recess_end]\n",
    "    housing_data.reset_index(True, inplace=True)\n",
    "    housing_data['price_ratio'] = housing_data[recess_start]/housing_data[recess_bottom]\n",
    "    \n",
    "    # split the data to town vs university parts\n",
    "    in_town = housing_data['RegionName'].isin(df_university['RegionName'])\n",
    "    university_ratio_prices = housing_data[in_town]['price_ratio'].dropna()\n",
    "    general_ratio_prices = housing_data[~in_town]['price_ratio'].dropna()\n",
    "\n",
    "    # calculate means\n",
    "    university_ratio__prices_mean = university_ratio_prices.mean()\n",
    "    general_ratio__prices_mean = general_ratio_prices.mean()\n",
    "\n",
    "    # calculate t-statistic\n",
    "    ttest = ttest_ind(university_ratio_prices, general_ratio_prices)\n",
    "    t, p = ttest\n",
    "    different = (p < 0.01)\n",
    "    better = ('non-university town' \n",
    "              if university_ratio__prices_mean > general_ratio__prices_mean \n",
    "              else 'university town')\n",
    "    \n",
    "    return (different, p, better)"
   ]
  }
 ],
 "metadata": {
  "coursera": {
   "course_slug": "python-data-analysis",
   "graded_item_id": "Il9Fx",
   "launcher_item_id": "TeDW0",
   "part_id": "WGlun"
  },
  "kernelspec": {
   "display_name": "Python 3",
   "language": "python",
   "name": "python3"
  },
  "language_info": {
   "codemirror_mode": {
    "name": "ipython",
    "version": 3
   },
   "file_extension": ".py",
   "mimetype": "text/x-python",
   "name": "python",
   "nbconvert_exporter": "python",
   "pygments_lexer": "ipython3",
   "version": "3.6.9"
  }
 },
 "nbformat": 4,
 "nbformat_minor": 1
}
